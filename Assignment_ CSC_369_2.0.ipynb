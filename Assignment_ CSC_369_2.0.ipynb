{
 "cells": [
  {
   "cell_type": "code",
   "execution_count": 603,
   "metadata": {},
   "outputs": [],
   "source": [
    "import pandas as pd\n",
    "import numpy as np\n",
    "\n",
    "from sklearn.model_selection import train_test_split\n",
    "from sklearn.preprocessing import StandardScaler\n",
    "from sklearn.neighbors import KNeighborsClassifier\n",
    "from sklearn.metrics import confusion_matrix\n",
    "from sklearn.metrics import f1_score\n",
    "from sklearn.metrics import accuracy_score\n",
    "from sklearn.metrics import classification_report\n",
    "\n",
    "import matplotlib.pyplot as plt\n",
    "plt.style.use('ggplot')\n",
    "\n"
   ]
  },
  {
   "cell_type": "markdown",
   "metadata": {},
   "source": [
    "Importing the dataset"
   ]
  },
  {
   "cell_type": "code",
   "execution_count": 604,
   "metadata": {},
   "outputs": [
    {
     "data": {
      "text/html": [
       "<div>\n",
       "<style scoped>\n",
       "    .dataframe tbody tr th:only-of-type {\n",
       "        vertical-align: middle;\n",
       "    }\n",
       "\n",
       "    .dataframe tbody tr th {\n",
       "        vertical-align: top;\n",
       "    }\n",
       "\n",
       "    .dataframe thead th {\n",
       "        text-align: right;\n",
       "    }\n",
       "</style>\n",
       "<table border=\"1\" class=\"dataframe\">\n",
       "  <thead>\n",
       "    <tr style=\"text-align: right;\">\n",
       "      <th></th>\n",
       "      <th>age</th>\n",
       "      <th>workclass</th>\n",
       "      <th>education</th>\n",
       "      <th>education-num</th>\n",
       "      <th>marital-status</th>\n",
       "      <th>occupation</th>\n",
       "      <th>relationship</th>\n",
       "      <th>race</th>\n",
       "      <th>sex</th>\n",
       "      <th>capital-gain</th>\n",
       "      <th>capital-loss</th>\n",
       "      <th>hours-per-week</th>\n",
       "      <th>native-country</th>\n",
       "      <th>income</th>\n",
       "    </tr>\n",
       "  </thead>\n",
       "  <tbody>\n",
       "    <tr>\n",
       "      <th>0</th>\n",
       "      <td>39</td>\n",
       "      <td>State-gov</td>\n",
       "      <td>Bachelors</td>\n",
       "      <td>13</td>\n",
       "      <td>Never-married</td>\n",
       "      <td>Adm-clerical</td>\n",
       "      <td>Not-in-family</td>\n",
       "      <td>White</td>\n",
       "      <td>Male</td>\n",
       "      <td>2174</td>\n",
       "      <td>0</td>\n",
       "      <td>40</td>\n",
       "      <td>United-States</td>\n",
       "      <td>&lt;=50K</td>\n",
       "    </tr>\n",
       "    <tr>\n",
       "      <th>1</th>\n",
       "      <td>50</td>\n",
       "      <td>Self-emp-not-inc</td>\n",
       "      <td>Bachelors</td>\n",
       "      <td>13</td>\n",
       "      <td>Married-civ-spouse</td>\n",
       "      <td>Exec-managerial</td>\n",
       "      <td>Husband</td>\n",
       "      <td>White</td>\n",
       "      <td>Male</td>\n",
       "      <td>0</td>\n",
       "      <td>0</td>\n",
       "      <td>13</td>\n",
       "      <td>United-States</td>\n",
       "      <td>&lt;=50K</td>\n",
       "    </tr>\n",
       "    <tr>\n",
       "      <th>2</th>\n",
       "      <td>38</td>\n",
       "      <td>Private</td>\n",
       "      <td>HS-grad</td>\n",
       "      <td>9</td>\n",
       "      <td>Divorced</td>\n",
       "      <td>Handlers-cleaners</td>\n",
       "      <td>Not-in-family</td>\n",
       "      <td>White</td>\n",
       "      <td>Male</td>\n",
       "      <td>0</td>\n",
       "      <td>0</td>\n",
       "      <td>40</td>\n",
       "      <td>United-States</td>\n",
       "      <td>&lt;=50K</td>\n",
       "    </tr>\n",
       "    <tr>\n",
       "      <th>3</th>\n",
       "      <td>53</td>\n",
       "      <td>Private</td>\n",
       "      <td>11th</td>\n",
       "      <td>7</td>\n",
       "      <td>Married-civ-spouse</td>\n",
       "      <td>Handlers-cleaners</td>\n",
       "      <td>Husband</td>\n",
       "      <td>Black</td>\n",
       "      <td>Male</td>\n",
       "      <td>0</td>\n",
       "      <td>0</td>\n",
       "      <td>40</td>\n",
       "      <td>United-States</td>\n",
       "      <td>&lt;=50K</td>\n",
       "    </tr>\n",
       "    <tr>\n",
       "      <th>4</th>\n",
       "      <td>28</td>\n",
       "      <td>Private</td>\n",
       "      <td>Bachelors</td>\n",
       "      <td>13</td>\n",
       "      <td>Married-civ-spouse</td>\n",
       "      <td>Prof-specialty</td>\n",
       "      <td>Wife</td>\n",
       "      <td>Black</td>\n",
       "      <td>Female</td>\n",
       "      <td>0</td>\n",
       "      <td>0</td>\n",
       "      <td>40</td>\n",
       "      <td>Cuba</td>\n",
       "      <td>&lt;=50K</td>\n",
       "    </tr>\n",
       "  </tbody>\n",
       "</table>\n",
       "</div>"
      ],
      "text/plain": [
       "   age          workclass   education   education-num       marital-status  \\\n",
       "0   39          State-gov   Bachelors              13        Never-married   \n",
       "1   50   Self-emp-not-inc   Bachelors              13   Married-civ-spouse   \n",
       "2   38            Private     HS-grad               9             Divorced   \n",
       "3   53            Private        11th               7   Married-civ-spouse   \n",
       "4   28            Private   Bachelors              13   Married-civ-spouse   \n",
       "\n",
       "           occupation    relationship    race      sex   capital-gain  \\\n",
       "0        Adm-clerical   Not-in-family   White     Male           2174   \n",
       "1     Exec-managerial         Husband   White     Male              0   \n",
       "2   Handlers-cleaners   Not-in-family   White     Male              0   \n",
       "3   Handlers-cleaners         Husband   Black     Male              0   \n",
       "4      Prof-specialty            Wife   Black   Female              0   \n",
       "\n",
       "    capital-loss   hours-per-week  native-country  income  \n",
       "0              0               40   United-States   <=50K  \n",
       "1              0               13   United-States   <=50K  \n",
       "2              0               40   United-States   <=50K  \n",
       "3              0               40   United-States   <=50K  \n",
       "4              0               40            Cuba   <=50K  "
      ]
     },
     "execution_count": 604,
     "metadata": {},
     "output_type": "execute_result"
    }
   ],
   "source": [
    "dataset = pd.read_csv('./Adult_Census_Income_Binary_Classification_dataset.csv');\n",
    "\n",
    "dataset.head()"
   ]
  },
  {
   "cell_type": "code",
   "execution_count": 605,
   "metadata": {},
   "outputs": [
    {
     "data": {
      "text/plain": [
       "(32561, 14)"
      ]
     },
     "execution_count": 605,
     "metadata": {},
     "output_type": "execute_result"
    }
   ],
   "source": [
    "dataset.shape"
   ]
  },
  {
   "cell_type": "markdown",
   "metadata": {},
   "source": [
    "Replace missing values(?) with NaN"
   ]
  },
  {
   "cell_type": "code",
   "execution_count": 606,
   "metadata": {},
   "outputs": [],
   "source": [
    "#replace missing data values\n",
    "data_missing_columns = [' workclass', ' occupation', ' native-country']\n",
    "\n",
    "for column in data_missing_columns:\n",
    "    dataset[column] = dataset[column].replace('[?]', np.NaN, regex = True)"
   ]
  },
  {
   "cell_type": "markdown",
   "metadata": {},
   "source": [
    "Mean value is used for missing data in capital-gain and capital-loss columns "
   ]
  },
  {
   "cell_type": "code",
   "execution_count": 607,
   "metadata": {},
   "outputs": [],
   "source": [
    "zero_not_accepted = [' capital-gain', ' capital-loss']\n",
    "\n",
    "for column in zero_not_accepted:\n",
    "    dataset[column] = dataset[column].replace(0, np.NaN)\n",
    "    mean = int(dataset[column].mean(skipna = True))\n",
    "    dataset[column] = dataset[column].replace(np.NaN, mean)"
   ]
  },
  {
   "cell_type": "markdown",
   "metadata": {},
   "source": [
    "Converting categorical data into numerical values"
   ]
  },
  {
   "cell_type": "code",
   "execution_count": 608,
   "metadata": {
    "scrolled": true
   },
   "outputs": [],
   "source": [
    "#converting categorical data\n",
    "dataset = dataset.dropna()\n",
    "\n",
    "dataset[' income'] = dataset[' income'].replace({'<=50K': 0, '>50K':1}, regex=True).astype(int)\n",
    "\n",
    "\n",
    "\n",
    "dataset[' occupation'] = dataset[' occupation'].map({'?': 0, ' Farming-fishing': 1, ' Tech-support': 2, \n",
    "                                                       ' Adm-clerical': 3, ' Handlers-cleaners': 4, ' Prof-specialty': 5,\n",
    "                                                       ' Machine-op-inspct': 6, ' Exec-managerial': 7, \n",
    "                                                       ' Priv-house-serv': 8, ' Craft-repair': 9, ' Sales': 10, \n",
    "                                                       ' Transport-moving': 11, ' Armed-Forces': 12, ' Other-service': 13, \n",
    "                                                       ' Protective-serv': 14}).astype(int)\n",
    "\n",
    "dataset[' sex'] = dataset[' sex'].map({' Male': 0, ' Female': 1}).astype(int)\n",
    "\n",
    "\n",
    "dataset[' race'] = dataset[' race'].map({' Black': 0, ' Asian-Pac-Islander': 1, ' Other': 2, ' White': 3, \n",
    "                                             ' Amer-Indian-Eskimo': 4}).astype(int)\n",
    "\n",
    "\n",
    "\n",
    "dataset[' marital-status'] = dataset[' marital-status'].map({' Married-spouse-absent': 0, ' Widowed': 1, \n",
    "                                                             ' Married-civ-spouse': 2, ' Separated': 3, ' Divorced': 4, \n",
    "                                                             ' Never-married': 5, ' Married-AF-spouse': 6}).astype(int)\n",
    "\n",
    "\n",
    "\n",
    "dataset[' native-country'] = dataset[' native-country'].map({' Outlying-US(Guam-USVI-etc)': 0, ' Italy': 1, \n",
    "                                                             ' Portugal': 2, ' Laos': 3, ' Thailand': 4, ' Iran': 5,\n",
    "                                                             ' India': 6, ' France': 7, ' Columbia': 8, \n",
    "                                                             ' Yugoslavia': 9, ' Dominican-Republic': 10, \n",
    "                                                             ' United-States': 11, ' Hong': 12, ' Ecuador': 13, \n",
    "                                                             ' Germany': 14, ' Japan': 15, ' Poland': 16, ' South': 17, \n",
    "                                                             ' Canada': 18, ' Guatemala': 19, ' China': 20, \n",
    "                                                             ' Cambodia': 21, ' Philippines': 22, ' Peru': 23, \n",
    "                                                             ' Jamaica': 24, ' Holand-Netherlands': 25, \n",
    "                                                             ' Trinadad&Tobago': 26, ' England': 27, ' Haiti': 28, \n",
    "                                                             ' Taiwan': 29, ' Vietnam': 30, ' Honduras': 31, \n",
    "                                                             ' Puerto-Rico': 32, ' Scotland': 33, ' Greece': 34, \n",
    "                                                             ' Cuba': 35, ' Hungary': 36, ' Ireland': 37, ' Mexico': 38, \n",
    "                                                             ' Nicaragua': 39, ' El-Salvador': 40}).astype(int)\n",
    "\n",
    "\n",
    "\n",
    "dataset[' relationship'] = dataset[' relationship'].map({' Unmarried': 0, ' Other-relative': 1, ' Not-in-family': 2, \n",
    "                                                             ' Own-child': 3, ' Wife': 4, ' Husband': 5}).astype(int)\n",
    "\n",
    "dataset[' education'] = dataset[' education'].map({' Preschool': 0, ' 11th': 1, ' Masters': 2, ' Assoc-acdm': 3, \n",
    "                                                   ' Doctorate': 4, ' HS-grad': 4, ' 12th': 5, ' 9th': 6, ' 1st-4th': 7, \n",
    "                                                   ' Bachelors': 8, ' Assoc-voc': 9, ' Prof-school': 10, ' Some-college': 11, \n",
    "                                                   ' 10th': 12, ' 7th-8th': 13, ' 5th-6th': 14}).astype(int)\n",
    "\n",
    "\n",
    "dataset[' workclass'] = dataset[' workclass'].map({' Self-emp-inc': 0, ' Self-emp-not-inc': 1, ' Without-pay': 2, \n",
    "                                                   ' State-gov': 3, ' Private': 4, ' Local-gov': 5, ' Federal-gov': 6}).astype(int)"
   ]
  },
  {
   "cell_type": "code",
   "execution_count": 609,
   "metadata": {},
   "outputs": [],
   "source": [
    "#split dataset\n",
    "X = dataset.iloc[:, 0:13]\n",
    "Y = dataset.iloc[:, 13]\n",
    "x_train, x_test, y_train, y_test = train_test_split(X, Y, random_state=11, test_size=0.3)\n"
   ]
  },
  {
   "cell_type": "markdown",
   "metadata": {},
   "source": [
    "Finding the best K value for the model"
   ]
  },
  {
   "cell_type": "code",
   "execution_count": null,
   "metadata": {},
   "outputs": [],
   "source": [
    "#finding the best k value for the model\n",
    "neighbors = np.arange(3, 19)\n",
    "train_accuracy = np.empty(len(neighbors))\n",
    "test_accuracy = np.empty(len(neighbors))\n",
    "\n",
    "for i,k in enumerate(neighbors):\n",
    "    classifier = KNeighborsClassifier(n_neighbors = k, p = 2)\n",
    "    \n",
    "    classifier.fit(x_train, y_train)\n",
    "    \n",
    "    train_accuracy[i] = classifier.score(x_train, y_train)\n",
    "    test_accuracy[i] = classifier.score(x_test, y_test)"
   ]
  },
  {
   "cell_type": "code",
   "execution_count": null,
   "metadata": {},
   "outputs": [],
   "source": [
    "#generate plot\n",
    "%matplotlib inline\n",
    "plt.title('KNN number of neighbors vs Accuracy')\n",
    "plt.plot(neighbors, test_accuracy, label = 'Testing Accuracy')\n",
    "plt.plot(neighbors, train_accuracy, label = 'Training Accuracy')\n",
    "plt.legend()\n",
    "plt.xlabel('Number of neighbors')\n",
    "plt.ylabel('Accuracy')\n",
    "plt.show()\n",
    "\n"
   ]
  },
  {
   "cell_type": "markdown",
   "metadata": {},
   "source": [
    "13 is chosen as the K value since it shows the highest testing accuracy and also to make sure we \n",
    "choose a value high enough to avoid over fitting"
   ]
  },
  {
   "cell_type": "code",
   "execution_count": 610,
   "metadata": {},
   "outputs": [],
   "source": [
    "#K is chosen as 13 since the highest testing accuracy is at 13\n",
    "classifier = KNeighborsClassifier(n_neighbors = 13, p = 2)"
   ]
  },
  {
   "cell_type": "code",
   "execution_count": 611,
   "metadata": {},
   "outputs": [
    {
     "data": {
      "text/plain": [
       "KNeighborsClassifier(algorithm='auto', leaf_size=30, metric='minkowski',\n",
       "           metric_params=None, n_jobs=1, n_neighbors=13, p=2,\n",
       "           weights='uniform')"
      ]
     },
     "execution_count": 611,
     "metadata": {},
     "output_type": "execute_result"
    }
   ],
   "source": [
    "#fitting the model\n",
    "classifier.fit(x_train, y_train)"
   ]
  },
  {
   "cell_type": "markdown",
   "metadata": {},
   "source": [
    "Testing and evaluating the model"
   ]
  },
  {
   "cell_type": "code",
   "execution_count": 612,
   "metadata": {},
   "outputs": [],
   "source": [
    "#testing with the test data set\n",
    "y_pred = classifier.predict(x_test)"
   ]
  },
  {
   "cell_type": "code",
   "execution_count": 613,
   "metadata": {},
   "outputs": [
    {
     "name": "stdout",
     "output_type": "stream",
     "text": [
      "Confusion Matrix\n",
      "[[6301  474]\n",
      " [ 845 1429]]\n",
      "\n",
      "\n",
      "Predicted     0     1   All\n",
      "True                       \n",
      "0          6301   474  6775\n",
      "1           845  1429  2274\n",
      "All        7146  1903  9049\n"
     ]
    }
   ],
   "source": [
    "#confusion matrix\n",
    "cm = confusion_matrix(y_test, y_pred)\n",
    "\n",
    "print('Confusion Matrix\\n')\n",
    "print(cm)\n",
    "print('\\n')\n",
    "\n",
    "#confusion matrix\n",
    "print(pd.crosstab(y_test, y_pred, rownames=['True'], colnames=['Predicted'], margins=True))"
   ]
  },
  {
   "cell_type": "code",
   "execution_count": 614,
   "metadata": {},
   "outputs": [
    {
     "name": "stdout",
     "output_type": "stream",
     "text": [
      "Classification Report\n",
      "             precision    recall  f1-score   support\n",
      "\n",
      "          0       0.88      0.93      0.91      6775\n",
      "          1       0.75      0.63      0.68      2274\n",
      "\n",
      "avg / total       0.85      0.85      0.85      9049\n",
      "\n"
     ]
    }
   ],
   "source": [
    "#full classification report\n",
    "print('Classification Report')\n",
    "print(classification_report(y_test, y_pred))"
   ]
  },
  {
   "cell_type": "code",
   "execution_count": 615,
   "metadata": {},
   "outputs": [
    {
     "name": "stdout",
     "output_type": "stream",
     "text": [
      "Accuracy of the model: 0.8542380373521936\n"
     ]
    }
   ],
   "source": [
    "#accuracy of the model\n",
    "accuracy = accuracy_score(y_test, y_pred)\n",
    "\n",
    "print('Accuracy of the model: ' + str(accuracy))"
   ]
  }
 ],
 "metadata": {
  "kernelspec": {
   "display_name": "Python 3",
   "language": "python",
   "name": "python3"
  },
  "language_info": {
   "codemirror_mode": {
    "name": "ipython",
    "version": 3
   },
   "file_extension": ".py",
   "mimetype": "text/x-python",
   "name": "python",
   "nbconvert_exporter": "python",
   "pygments_lexer": "ipython3",
   "version": "3.6.5"
  }
 },
 "nbformat": 4,
 "nbformat_minor": 2
}
