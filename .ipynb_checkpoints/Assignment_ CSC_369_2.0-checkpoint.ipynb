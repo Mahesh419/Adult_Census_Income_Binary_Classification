{
 "cells": [
  {
   "cell_type": "code",
   "execution_count": 714,
   "metadata": {},
   "outputs": [],
   "source": [
    "import pandas as pd\n",
    "import numpy as np\n",
    "\n",
    "from sklearn.model_selection import train_test_split\n",
    "from sklearn.preprocessing import StandardScaler\n",
    "from sklearn.neighbors import KNeighborsClassifier\n",
    "from sklearn.metrics import confusion_matrix\n",
    "from sklearn.metrics import f1_score\n",
    "from sklearn.metrics import accuracy_score\n",
    "from sklearn.metrics import classification_report\n",
    "\n",
    "import matplotlib.pyplot as plt\n",
    "plt.style.use('ggplot')\n",
    "\n"
   ]
  },
  {
   "cell_type": "markdown",
   "metadata": {},
   "source": [
    "Importing the dataset"
   ]
  },
  {
   "cell_type": "code",
   "execution_count": 715,
   "metadata": {},
   "outputs": [
    {
     "data": {
      "text/html": [
       "<div>\n",
       "<style scoped>\n",
       "    .dataframe tbody tr th:only-of-type {\n",
       "        vertical-align: middle;\n",
       "    }\n",
       "\n",
       "    .dataframe tbody tr th {\n",
       "        vertical-align: top;\n",
       "    }\n",
       "\n",
       "    .dataframe thead th {\n",
       "        text-align: right;\n",
       "    }\n",
       "</style>\n",
       "<table border=\"1\" class=\"dataframe\">\n",
       "  <thead>\n",
       "    <tr style=\"text-align: right;\">\n",
       "      <th></th>\n",
       "      <th>age</th>\n",
       "      <th>workclass</th>\n",
       "      <th>education</th>\n",
       "      <th>education-num</th>\n",
       "      <th>marital-status</th>\n",
       "      <th>occupation</th>\n",
       "      <th>relationship</th>\n",
       "      <th>race</th>\n",
       "      <th>sex</th>\n",
       "      <th>capital-gain</th>\n",
       "      <th>capital-loss</th>\n",
       "      <th>hours-per-week</th>\n",
       "      <th>native-country</th>\n",
       "      <th>income</th>\n",
       "    </tr>\n",
       "  </thead>\n",
       "  <tbody>\n",
       "    <tr>\n",
       "      <th>0</th>\n",
       "      <td>39</td>\n",
       "      <td>State-gov</td>\n",
       "      <td>Bachelors</td>\n",
       "      <td>13</td>\n",
       "      <td>Never-married</td>\n",
       "      <td>Adm-clerical</td>\n",
       "      <td>Not-in-family</td>\n",
       "      <td>White</td>\n",
       "      <td>Male</td>\n",
       "      <td>2174</td>\n",
       "      <td>0</td>\n",
       "      <td>40</td>\n",
       "      <td>United-States</td>\n",
       "      <td>&lt;=50K</td>\n",
       "    </tr>\n",
       "    <tr>\n",
       "      <th>1</th>\n",
       "      <td>50</td>\n",
       "      <td>Self-emp-not-inc</td>\n",
       "      <td>Bachelors</td>\n",
       "      <td>13</td>\n",
       "      <td>Married-civ-spouse</td>\n",
       "      <td>Exec-managerial</td>\n",
       "      <td>Husband</td>\n",
       "      <td>White</td>\n",
       "      <td>Male</td>\n",
       "      <td>0</td>\n",
       "      <td>0</td>\n",
       "      <td>13</td>\n",
       "      <td>United-States</td>\n",
       "      <td>&lt;=50K</td>\n",
       "    </tr>\n",
       "    <tr>\n",
       "      <th>2</th>\n",
       "      <td>38</td>\n",
       "      <td>Private</td>\n",
       "      <td>HS-grad</td>\n",
       "      <td>9</td>\n",
       "      <td>Divorced</td>\n",
       "      <td>Handlers-cleaners</td>\n",
       "      <td>Not-in-family</td>\n",
       "      <td>White</td>\n",
       "      <td>Male</td>\n",
       "      <td>0</td>\n",
       "      <td>0</td>\n",
       "      <td>40</td>\n",
       "      <td>United-States</td>\n",
       "      <td>&lt;=50K</td>\n",
       "    </tr>\n",
       "    <tr>\n",
       "      <th>3</th>\n",
       "      <td>53</td>\n",
       "      <td>Private</td>\n",
       "      <td>11th</td>\n",
       "      <td>7</td>\n",
       "      <td>Married-civ-spouse</td>\n",
       "      <td>Handlers-cleaners</td>\n",
       "      <td>Husband</td>\n",
       "      <td>Black</td>\n",
       "      <td>Male</td>\n",
       "      <td>0</td>\n",
       "      <td>0</td>\n",
       "      <td>40</td>\n",
       "      <td>United-States</td>\n",
       "      <td>&lt;=50K</td>\n",
       "    </tr>\n",
       "    <tr>\n",
       "      <th>4</th>\n",
       "      <td>28</td>\n",
       "      <td>Private</td>\n",
       "      <td>Bachelors</td>\n",
       "      <td>13</td>\n",
       "      <td>Married-civ-spouse</td>\n",
       "      <td>Prof-specialty</td>\n",
       "      <td>Wife</td>\n",
       "      <td>Black</td>\n",
       "      <td>Female</td>\n",
       "      <td>0</td>\n",
       "      <td>0</td>\n",
       "      <td>40</td>\n",
       "      <td>Cuba</td>\n",
       "      <td>&lt;=50K</td>\n",
       "    </tr>\n",
       "  </tbody>\n",
       "</table>\n",
       "</div>"
      ],
      "text/plain": [
       "   age          workclass   education   education-num       marital-status  \\\n",
       "0   39          State-gov   Bachelors              13        Never-married   \n",
       "1   50   Self-emp-not-inc   Bachelors              13   Married-civ-spouse   \n",
       "2   38            Private     HS-grad               9             Divorced   \n",
       "3   53            Private        11th               7   Married-civ-spouse   \n",
       "4   28            Private   Bachelors              13   Married-civ-spouse   \n",
       "\n",
       "           occupation    relationship    race      sex   capital-gain  \\\n",
       "0        Adm-clerical   Not-in-family   White     Male           2174   \n",
       "1     Exec-managerial         Husband   White     Male              0   \n",
       "2   Handlers-cleaners   Not-in-family   White     Male              0   \n",
       "3   Handlers-cleaners         Husband   Black     Male              0   \n",
       "4      Prof-specialty            Wife   Black   Female              0   \n",
       "\n",
       "    capital-loss   hours-per-week  native-country  income  \n",
       "0              0               40   United-States   <=50K  \n",
       "1              0               13   United-States   <=50K  \n",
       "2              0               40   United-States   <=50K  \n",
       "3              0               40   United-States   <=50K  \n",
       "4              0               40            Cuba   <=50K  "
      ]
     },
     "execution_count": 715,
     "metadata": {},
     "output_type": "execute_result"
    }
   ],
   "source": [
    "dataset = pd.read_csv('./Adult_Census_Income_Binary_Classification_dataset.csv');\n",
    "\n",
    "dataset.head()"
   ]
  },
  {
   "cell_type": "code",
   "execution_count": 716,
   "metadata": {},
   "outputs": [
    {
     "data": {
      "text/plain": [
       "(32561, 14)"
      ]
     },
     "execution_count": 716,
     "metadata": {},
     "output_type": "execute_result"
    }
   ],
   "source": [
    "dataset.shape"
   ]
  },
  {
   "cell_type": "markdown",
   "metadata": {},
   "source": [
    "Replace missing values(?) with NaN"
   ]
  },
  {
   "cell_type": "code",
   "execution_count": 717,
   "metadata": {},
   "outputs": [],
   "source": [
    "#replace missing data values\n",
    "data_missing_columns = [' workclass', ' occupation', ' native-country']\n",
    "\n",
    "for column in data_missing_columns:\n",
    "    dataset[column] = dataset[column].replace('[?]', np.NaN, regex = True)"
   ]
  },
  {
   "cell_type": "markdown",
   "metadata": {},
   "source": [
    "Mean value is used for missing data in capital-gain and capital-loss columns "
   ]
  },
  {
   "cell_type": "code",
   "execution_count": 718,
   "metadata": {},
   "outputs": [],
   "source": [
    "dataset = dataset.dropna()\n",
    "\n",
    "zero_not_accepted = [' capital-gain', ' capital-loss']\n",
    "\n",
    "for column in zero_not_accepted:\n",
    "    dataset[column] = dataset[column].replace(0, np.NaN)\n",
    "    mean = int(dataset[column].mean())\n",
    "    dataset[column] = dataset[column].replace(np.NaN, mean)"
   ]
  },
  {
   "cell_type": "markdown",
   "metadata": {},
   "source": [
    "Converting categorical data into numerical values"
   ]
  },
  {
   "cell_type": "code",
   "execution_count": 719,
   "metadata": {},
   "outputs": [
    {
     "data": {
      "text/html": [
       "<div>\n",
       "<style scoped>\n",
       "    .dataframe tbody tr th:only-of-type {\n",
       "        vertical-align: middle;\n",
       "    }\n",
       "\n",
       "    .dataframe tbody tr th {\n",
       "        vertical-align: top;\n",
       "    }\n",
       "\n",
       "    .dataframe thead th {\n",
       "        text-align: right;\n",
       "    }\n",
       "</style>\n",
       "<table border=\"1\" class=\"dataframe\">\n",
       "  <thead>\n",
       "    <tr style=\"text-align: right;\">\n",
       "      <th></th>\n",
       "      <th>age</th>\n",
       "      <th>workclass</th>\n",
       "      <th>education</th>\n",
       "      <th>education-num</th>\n",
       "      <th>marital-status</th>\n",
       "      <th>occupation</th>\n",
       "      <th>relationship</th>\n",
       "      <th>race</th>\n",
       "      <th>sex</th>\n",
       "      <th>capital-gain</th>\n",
       "      <th>capital-loss</th>\n",
       "      <th>hours-per-week</th>\n",
       "      <th>native-country</th>\n",
       "      <th>income</th>\n",
       "    </tr>\n",
       "  </thead>\n",
       "  <tbody>\n",
       "    <tr>\n",
       "      <th>0</th>\n",
       "      <td>39</td>\n",
       "      <td>5</td>\n",
       "      <td>9</td>\n",
       "      <td>13</td>\n",
       "      <td>4</td>\n",
       "      <td>0</td>\n",
       "      <td>1</td>\n",
       "      <td>4</td>\n",
       "      <td>1</td>\n",
       "      <td>2174.0</td>\n",
       "      <td>1867.0</td>\n",
       "      <td>40</td>\n",
       "      <td>38</td>\n",
       "      <td>0</td>\n",
       "    </tr>\n",
       "    <tr>\n",
       "      <th>1</th>\n",
       "      <td>50</td>\n",
       "      <td>4</td>\n",
       "      <td>9</td>\n",
       "      <td>13</td>\n",
       "      <td>2</td>\n",
       "      <td>3</td>\n",
       "      <td>0</td>\n",
       "      <td>4</td>\n",
       "      <td>1</td>\n",
       "      <td>12977.0</td>\n",
       "      <td>1867.0</td>\n",
       "      <td>13</td>\n",
       "      <td>38</td>\n",
       "      <td>0</td>\n",
       "    </tr>\n",
       "    <tr>\n",
       "      <th>2</th>\n",
       "      <td>38</td>\n",
       "      <td>2</td>\n",
       "      <td>11</td>\n",
       "      <td>9</td>\n",
       "      <td>0</td>\n",
       "      <td>5</td>\n",
       "      <td>1</td>\n",
       "      <td>4</td>\n",
       "      <td>1</td>\n",
       "      <td>12977.0</td>\n",
       "      <td>1867.0</td>\n",
       "      <td>40</td>\n",
       "      <td>38</td>\n",
       "      <td>0</td>\n",
       "    </tr>\n",
       "    <tr>\n",
       "      <th>3</th>\n",
       "      <td>53</td>\n",
       "      <td>2</td>\n",
       "      <td>1</td>\n",
       "      <td>7</td>\n",
       "      <td>2</td>\n",
       "      <td>5</td>\n",
       "      <td>0</td>\n",
       "      <td>2</td>\n",
       "      <td>1</td>\n",
       "      <td>12977.0</td>\n",
       "      <td>1867.0</td>\n",
       "      <td>40</td>\n",
       "      <td>38</td>\n",
       "      <td>0</td>\n",
       "    </tr>\n",
       "    <tr>\n",
       "      <th>4</th>\n",
       "      <td>28</td>\n",
       "      <td>2</td>\n",
       "      <td>9</td>\n",
       "      <td>13</td>\n",
       "      <td>2</td>\n",
       "      <td>9</td>\n",
       "      <td>5</td>\n",
       "      <td>2</td>\n",
       "      <td>0</td>\n",
       "      <td>12977.0</td>\n",
       "      <td>1867.0</td>\n",
       "      <td>40</td>\n",
       "      <td>4</td>\n",
       "      <td>0</td>\n",
       "    </tr>\n",
       "    <tr>\n",
       "      <th>5</th>\n",
       "      <td>37</td>\n",
       "      <td>2</td>\n",
       "      <td>12</td>\n",
       "      <td>14</td>\n",
       "      <td>2</td>\n",
       "      <td>3</td>\n",
       "      <td>5</td>\n",
       "      <td>4</td>\n",
       "      <td>0</td>\n",
       "      <td>12977.0</td>\n",
       "      <td>1867.0</td>\n",
       "      <td>40</td>\n",
       "      <td>38</td>\n",
       "      <td>0</td>\n",
       "    </tr>\n",
       "    <tr>\n",
       "      <th>6</th>\n",
       "      <td>49</td>\n",
       "      <td>2</td>\n",
       "      <td>6</td>\n",
       "      <td>5</td>\n",
       "      <td>3</td>\n",
       "      <td>7</td>\n",
       "      <td>1</td>\n",
       "      <td>2</td>\n",
       "      <td>0</td>\n",
       "      <td>12977.0</td>\n",
       "      <td>1867.0</td>\n",
       "      <td>16</td>\n",
       "      <td>22</td>\n",
       "      <td>0</td>\n",
       "    </tr>\n",
       "    <tr>\n",
       "      <th>7</th>\n",
       "      <td>52</td>\n",
       "      <td>4</td>\n",
       "      <td>11</td>\n",
       "      <td>9</td>\n",
       "      <td>2</td>\n",
       "      <td>3</td>\n",
       "      <td>0</td>\n",
       "      <td>4</td>\n",
       "      <td>1</td>\n",
       "      <td>12977.0</td>\n",
       "      <td>1867.0</td>\n",
       "      <td>45</td>\n",
       "      <td>38</td>\n",
       "      <td>1</td>\n",
       "    </tr>\n",
       "    <tr>\n",
       "      <th>8</th>\n",
       "      <td>31</td>\n",
       "      <td>2</td>\n",
       "      <td>12</td>\n",
       "      <td>14</td>\n",
       "      <td>4</td>\n",
       "      <td>9</td>\n",
       "      <td>1</td>\n",
       "      <td>4</td>\n",
       "      <td>0</td>\n",
       "      <td>14084.0</td>\n",
       "      <td>1867.0</td>\n",
       "      <td>50</td>\n",
       "      <td>38</td>\n",
       "      <td>1</td>\n",
       "    </tr>\n",
       "    <tr>\n",
       "      <th>9</th>\n",
       "      <td>42</td>\n",
       "      <td>2</td>\n",
       "      <td>9</td>\n",
       "      <td>13</td>\n",
       "      <td>2</td>\n",
       "      <td>3</td>\n",
       "      <td>0</td>\n",
       "      <td>4</td>\n",
       "      <td>1</td>\n",
       "      <td>5178.0</td>\n",
       "      <td>1867.0</td>\n",
       "      <td>40</td>\n",
       "      <td>38</td>\n",
       "      <td>1</td>\n",
       "    </tr>\n",
       "  </tbody>\n",
       "</table>\n",
       "</div>"
      ],
      "text/plain": [
       "   age   workclass   education   education-num   marital-status   occupation  \\\n",
       "0   39           5           9              13                4            0   \n",
       "1   50           4           9              13                2            3   \n",
       "2   38           2          11               9                0            5   \n",
       "3   53           2           1               7                2            5   \n",
       "4   28           2           9              13                2            9   \n",
       "5   37           2          12              14                2            3   \n",
       "6   49           2           6               5                3            7   \n",
       "7   52           4          11               9                2            3   \n",
       "8   31           2          12              14                4            9   \n",
       "9   42           2           9              13                2            3   \n",
       "\n",
       "    relationship   race   sex   capital-gain   capital-loss   hours-per-week  \\\n",
       "0              1      4     1         2174.0         1867.0               40   \n",
       "1              0      4     1        12977.0         1867.0               13   \n",
       "2              1      4     1        12977.0         1867.0               40   \n",
       "3              0      2     1        12977.0         1867.0               40   \n",
       "4              5      2     0        12977.0         1867.0               40   \n",
       "5              5      4     0        12977.0         1867.0               40   \n",
       "6              1      2     0        12977.0         1867.0               16   \n",
       "7              0      4     1        12977.0         1867.0               45   \n",
       "8              1      4     0        14084.0         1867.0               50   \n",
       "9              0      4     1         5178.0         1867.0               40   \n",
       "\n",
       "    native-country   income  \n",
       "0               38        0  \n",
       "1               38        0  \n",
       "2               38        0  \n",
       "3               38        0  \n",
       "4                4        0  \n",
       "5               38        0  \n",
       "6               22        0  \n",
       "7               38        1  \n",
       "8               38        1  \n",
       "9               38        1  "
      ]
     },
     "execution_count": 719,
     "metadata": {},
     "output_type": "execute_result"
    }
   ],
   "source": [
    "dataset[\" income\"] = dataset[\" income\"].astype('category')\n",
    "dataset.dtypes\n",
    "dataset[\" income\"] = dataset[\" income\"].cat.codes\n",
    "\n",
    "dataset[\" workclass\"] = dataset[\" workclass\"].astype('category')\n",
    "dataset.dtypes\n",
    "dataset[\" workclass\"] = dataset[\" workclass\"].cat.codes\n",
    "\n",
    "dataset[\" education\"] = dataset[\" education\"].astype('category')\n",
    "dataset.dtypes\n",
    "dataset[\" education\"] = dataset[\" education\"].cat.codes\n",
    "\n",
    "dataset[\" marital-status\"] = dataset[\" marital-status\"].astype('category')\n",
    "dataset.dtypes\n",
    "dataset[\" marital-status\"] = dataset[\" marital-status\"].cat.codes\n",
    "\n",
    "dataset[\" occupation\"] = dataset[\" occupation\"].astype('category')\n",
    "dataset.dtypes\n",
    "dataset[\" occupation\"] = dataset[\" occupation\"].cat.codes\n",
    "\n",
    "dataset[\" relationship\"] = dataset[\" relationship\"].astype('category')\n",
    "dataset.dtypes\n",
    "dataset[\" relationship\"] = dataset[\" relationship\"].cat.codes\n",
    "\n",
    "dataset[\" race\"] = dataset[\" race\"].astype('category')\n",
    "dataset.dtypes\n",
    "dataset[\" race\"] = dataset[\" race\"].cat.codes\n",
    "\n",
    "dataset[\" sex\"] = dataset[\" sex\"].astype('category')\n",
    "dataset.dtypes\n",
    "dataset[\" sex\"] = dataset[\" sex\"].cat.codes\n",
    "\n",
    "dataset[\" native-country\"] = dataset[\" native-country\"].astype('category')\n",
    "dataset.dtypes\n",
    "dataset[\" native-country\"] = dataset[\" native-country\"].cat.codes\n",
    "\n",
    "\n",
    "dataset.head(10)"
   ]
  },
  {
   "cell_type": "markdown",
   "metadata": {},
   "source": [
    "Splitting the dataset for training and testing"
   ]
  },
  {
   "cell_type": "code",
   "execution_count": 720,
   "metadata": {},
   "outputs": [],
   "source": [
    "#split dataset\n",
    "X = dataset.iloc[:, 0:13]\n",
    "Y = dataset.iloc[:, 13]\n",
    "x_train, x_test, y_train, y_test = train_test_split(X, Y, random_state=11, test_size=0.3)\n"
   ]
  },
  {
   "cell_type": "markdown",
   "metadata": {},
   "source": [
    "Finding the best K value for the model"
   ]
  },
  {
   "cell_type": "code",
   "execution_count": 721,
   "metadata": {},
   "outputs": [],
   "source": [
    "#finding the best k value for the model\n",
    "neighbors = np.arange(3, 20)\n",
    "train_accuracy = np.empty(len(neighbors))\n",
    "test_accuracy = np.empty(len(neighbors))\n",
    "\n",
    "for i,k in enumerate(neighbors):\n",
    "    classifier = KNeighborsClassifier(n_neighbors = k, p = 2)\n",
    "    \n",
    "    classifier.fit(x_train, y_train)\n",
    "    \n",
    "    train_accuracy[i] = classifier.score(x_train, y_train)\n",
    "    test_accuracy[i] = classifier.score(x_test, y_test)"
   ]
  },
  {
   "cell_type": "code",
   "execution_count": 736,
   "metadata": {},
   "outputs": [
    {
     "data": {
      "image/png": "[encoded data removed]",
      "text/plain": [
       "<Figure size 432x288 with 1 Axes>"
      ]
     },
     "metadata": {},
     "output_type": "display_data"
    }
   ],
   "source": [
    "#generate plot\n",
    "%matplotlib inline\n",
    "plt.title('KNN number of neighbors vs Accuracy')\n",
    "plt.plot(neighbors, test_accuracy, label = 'Testing Accuracy')\n",
    "plt.plot(neighbors, train_accuracy, label = 'Training Accuracy')\n",
    "plt.legend()\n",
    "plt.xlabel('Number of neighbors')\n",
    "plt.ylabel('Accuracy')\n",
    "plt.show()\n",
    "\n"
   ]
  },
  {
   "cell_type": "markdown",
   "metadata": {},
   "source": [
    "19 is chosen as the K value since it shows the highest testing accuracy and also to make sure we \n",
    "choose a value high enough to avoid over fitting"
   ]
  },
  {
   "cell_type": "code",
   "execution_count": 737,
   "metadata": {},
   "outputs": [],
   "source": [
    "#K is chosen as 19 since the highest testing accuracy is at 19\n",
    "classifier = KNeighborsClassifier(n_neighbors = 19, p = 2)"
   ]
  },
  {
   "cell_type": "code",
   "execution_count": 738,
   "metadata": {},
   "outputs": [
    {
     "data": {
      "text/plain": [
       "KNeighborsClassifier(algorithm='auto', leaf_size=30, metric='minkowski',\n",
       "           metric_params=None, n_jobs=1, n_neighbors=21, p=2,\n",
       "           weights='uniform')"
      ]
     },
     "execution_count": 738,
     "metadata": {},
     "output_type": "execute_result"
    }
   ],
   "source": [
    "#fitting the model\n",
    "classifier.fit(x_train, y_train)"
   ]
  },
  {
   "cell_type": "markdown",
   "metadata": {},
   "source": [
    "Testing and evaluating the model"
   ]
  },
  {
   "cell_type": "code",
   "execution_count": 739,
   "metadata": {},
   "outputs": [],
   "source": [
    "#testing with the test data set\n",
    "y_pred = classifier.predict(x_test)"
   ]
  },
  {
   "cell_type": "code",
   "execution_count": 740,
   "metadata": {},
   "outputs": [
    {
     "name": "stdout",
     "output_type": "stream",
     "text": [
      "Confusion Matrix\n",
      "\n",
      "[[6314  461]\n",
      " [ 968 1306]]\n",
      "\n",
      "\n",
      "Predicted     0     1   All\n",
      "True                       \n",
      "0          6314   461  6775\n",
      "1           968  1306  2274\n",
      "All        7282  1767  9049\n"
     ]
    }
   ],
   "source": [
    "#confusion matrix\n",
    "cm = confusion_matrix(y_test, y_pred)\n",
    "\n",
    "print('Confusion Matrix\\n')\n",
    "print(cm)\n",
    "print('\\n')\n",
    "\n",
    "#confusion matrix\n",
    "print(pd.crosstab(y_test, y_pred, rownames=['True'], colnames=['Predicted'], margins=True))"
   ]
  },
  {
   "cell_type": "code",
   "execution_count": 741,
   "metadata": {},
   "outputs": [
    {
     "name": "stdout",
     "output_type": "stream",
     "text": [
      "Classification Report\n",
      "             precision    recall  f1-score   support\n",
      "\n",
      "          0       0.87      0.93      0.90      6775\n",
      "          1       0.74      0.57      0.65      2274\n",
      "\n",
      "avg / total       0.83      0.84      0.84      9049\n",
      "\n"
     ]
    }
   ],
   "source": [
    "#full classification report\n",
    "print('Classification Report')\n",
    "print(classification_report(y_test, y_pred))"
   ]
  },
  {
   "cell_type": "code",
   "execution_count": 742,
   "metadata": {},
   "outputs": [
    {
     "name": "stdout",
     "output_type": "stream",
     "text": [
      "Accuracy of the model: 0.84208199801083\n"
     ]
    }
   ],
   "source": [
    "#accuracy of the model\n",
    "accuracy = accuracy_score(y_test, y_pred)\n",
    "\n",
    "print('Accuracy of the model: ' + str(accuracy))"
   ]
  }
 ],
 "metadata": {
  "kernelspec": {
   "display_name": "Python 3",
   "language": "python",
   "name": "python3"
  },
  "language_info": {
   "codemirror_mode": {
    "name": "ipython",
    "version": 3
   },
   "file_extension": ".py",
   "mimetype": "text/x-python",
   "name": "python",
   "nbconvert_exporter": "python",
   "pygments_lexer": "ipython3",
   "version": "3.6.5"
  }
 },
 "nbformat": 4,
 "nbformat_minor": 2
}
